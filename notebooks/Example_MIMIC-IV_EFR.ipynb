{
 "cells": [
  {
   "cell_type": "markdown",
   "source": "# Example - MIMIC-IV EFR",
   "metadata": {
    "collapsed": false
   },
   "id": "29cd7d2751966a55"
  },
  {
   "cell_type": "code",
   "source": [
    "from models import DataMIMIC_IV_EFR\n",
    "\n",
    "from models import OCRL_model_fqi\n",
    "\n",
    "from models import train_set\n",
    "from models import test_set\n",
    "\n",
    "from sklearn.preprocessing import StandardScaler, MinMaxScaler, RobustScaler, QuantileTransformer"
   ],
   "metadata": {
    "collapsed": false
   },
   "id": "c225d32ff24d2f29",
   "outputs": [],
   "execution_count": null
  },
  {
   "cell_type": "code",
   "source": [
    "configurator = OCRL_model_fqi.RLConfigurator()\n",
    "config = configurator.input_rl_config()"
   ],
   "metadata": {
    "collapsed": false
   },
   "id": "2dfcccac4c36ac73",
   "outputs": [],
   "execution_count": null
  },
  {
   "cell_type": "code",
   "source": [
    "cfg = config"
   ],
   "metadata": {
    "collapsed": false
   },
   "id": "19c92c1d801b5ac4",
   "outputs": [],
   "execution_count": null
  },
  {
   "cell_type": "code",
   "source": [
    "# Load the data\n",
    "data = DataMIMIC_IV_EFR.DataLoader(cfg, \n",
    "                                   state_id_path = \"../data/state_id_table_0319.csv\", \n",
    "                                   rl_state_path = \"../data/rl_state_table_0319.csv\", \n",
    "                                   test_size = 0.20, random_state = 68, scaler = StandardScaler())"
   ],
   "metadata": {
    "collapsed": false
   },
   "id": "6cf0225869825e66",
   "outputs": [],
   "execution_count": null
  },
  {
   "cell_type": "code",
   "source": "data.rl_state_var",
   "metadata": {
    "collapsed": false
   },
   "id": "5777d6eef0dcb5ba",
   "outputs": [],
   "execution_count": null
  },
  {
   "cell_type": "code",
   "source": [
    "data.rl_state_var_sc"
   ],
   "metadata": {
    "collapsed": false
   },
   "id": "ca0e3e17d0a95514",
   "outputs": [],
   "execution_count": null
  },
  {
   "cell_type": "code",
   "source": [
    "data.rl_state_var_sc.shape"
   ],
   "metadata": {
    "collapsed": false
   },
   "id": "b77ecc5983e499fd",
   "outputs": [],
   "execution_count": null
  },
  {
   "cell_type": "code",
   "source": "rl_training = train_set.RLTraining(cfg, state_dim = 30, action_dim = 2, hidden_layers = None, data_loader = data.data_torch_loader_train)",
   "metadata": {
    "collapsed": false
   },
   "id": "18842c55adf924ae",
   "outputs": [],
   "execution_count": null
  },
  {
   "cell_type": "code",
   "source": [
    "agent_fqi_c0 = rl_training.fqi_agent_config(seed = 1)"
   ],
   "metadata": {
    "collapsed": false
   },
   "id": "cd96b6f1bfd24c61",
   "outputs": [],
   "execution_count": null
  },
  {
   "cell_type": "code",
   "source": [
    "agent_fqe_obj_c0 = rl_training.fqe_agent_config(agent_fqi_c0, eval_target = 'obj', seed = 2)\n",
    "agent_fqe_con_c0 = rl_training.fqe_agent_config(agent_fqi_c0, eval_target = 0, seed = 3)"
   ],
   "metadata": {
    "collapsed": false
   },
   "id": "6d744623f0a15603",
   "outputs": [],
   "execution_count": null
  },
  {
   "cell_type": "code",
   "source": "rl_training.train(agent_fqi_c0, agent_fqe_obj_c0, [agent_fqe_con_c0], constraint = True)",
   "metadata": {
    "collapsed": false
   },
   "id": "9c05419248c30f1f",
   "outputs": [],
   "execution_count": null
  },
  {
   "metadata": {},
   "cell_type": "code",
   "outputs": [],
   "execution_count": null,
   "source": "rl_testing = test_set.RLTesting(cfg,  agent_fqe_obj_c0, data_loader = data.data_torch_loader_test)",
   "id": "33de26a53d218cdc"
  },
  {
   "metadata": {},
   "cell_type": "code",
   "outputs": [],
   "execution_count": null,
   "source": "test_eval_obj_cost = rl_testing.test_eval()",
   "id": "e350532b1fbbf1ba"
  },
  {
   "metadata": {},
   "cell_type": "code",
   "outputs": [],
   "execution_count": null,
   "source": "rl_testing = test_set.RLTesting(cfg,  agent_fqe_con_c0, data_loader = data.data_torch_loader_test)",
   "id": "e013d85745c539c5"
  },
  {
   "metadata": {},
   "cell_type": "code",
   "outputs": [],
   "execution_count": null,
   "source": "test_eval_con_cost = rl_testing.test_eval()",
   "id": "fd8e8bcdc7e3ac56"
  },
  {
   "metadata": {},
   "cell_type": "markdown",
   "source": "## Conservative Q-Learning",
   "id": "b8d245dce81bbbd2"
  },
  {
   "metadata": {},
   "cell_type": "code",
   "source": "from models import ORL_model_cql",
   "id": "2768be352ea6f6c1",
   "outputs": [],
   "execution_count": null
  },
  {
   "metadata": {},
   "cell_type": "code",
   "source": [
    "configurator = ORL_model_cql.RLConfigurator()\n",
    "config = configurator.input_rl_config()"
   ],
   "id": "a06c1e05691e1c2d",
   "outputs": [],
   "execution_count": null
  },
  {
   "metadata": {},
   "cell_type": "code",
   "source": [
    "# Load the data\n",
    "data = DataMIMIC_IV_EFR.DataLoader(config, \n",
    "                                   state_id_path = \"../data/state_id_table_0319.csv\", \n",
    "                                   rl_state_path = \"../data/rl_state_table_0319.csv\", \n",
    "                                   test_size = 0.20, random_state = 68, scaler = StandardScaler())"
   ],
   "id": "96e62c1dc2999524",
   "outputs": [],
   "execution_count": null
  },
  {
   "metadata": {},
   "cell_type": "code",
   "source": "cql_training = train_set.RLTraining_cql(config, state_dim = 30, action_dim = 2, hidden_layers = None, data_loader = data.data_torch_loader_train)",
   "id": "d2953eb4267d6450",
   "outputs": [],
   "execution_count": null
  },
  {
   "metadata": {},
   "cell_type": "code",
   "source": [
    "agent_cql_0 = cql_training.cql_agent_config(seed = 1)\n",
    "\n",
    "agent_fqe_obj_0 = cql_training.fqe_agent_config(agent_cql_0, eval_target = 'obj', seed = 2)\n",
    "agent_fqe_con_0 = cql_training.fqe_agent_config(agent_cql_0, eval_target = 0, seed = 3)"
   ],
   "id": "d12c885c4ad5b0c8",
   "outputs": [],
   "execution_count": null
  },
  {
   "metadata": {},
   "cell_type": "code",
   "source": "cql_training.train(agent_cql_0, agent_fqe_obj_0, [agent_fqe_con_0])",
   "id": "26aa6006bf865acc",
   "outputs": [],
   "execution_count": null
  },
  {
   "metadata": {},
   "cell_type": "code",
   "source": "",
   "id": "4ed1298aefa7800f",
   "outputs": [],
   "execution_count": null
  },
  {
   "metadata": {},
   "cell_type": "code",
   "source": "",
   "id": "c129310bf5bddadd",
   "outputs": [],
   "execution_count": null
  },
  {
   "metadata": {},
   "cell_type": "code",
   "source": "",
   "id": "6eb126a7cad2e5c7",
   "outputs": [],
   "execution_count": null
  }
 ],
 "metadata": {
  "kernelspec": {
   "display_name": "Python 3",
   "language": "python",
   "name": "python3"
  },
  "language_info": {
   "codemirror_mode": {
    "name": "ipython",
    "version": 2
   },
   "file_extension": ".py",
   "mimetype": "text/x-python",
   "name": "python",
   "nbconvert_exporter": "python",
   "pygments_lexer": "ipython2",
   "version": "2.7.6"
  }
 },
 "nbformat": 4,
 "nbformat_minor": 5
}
