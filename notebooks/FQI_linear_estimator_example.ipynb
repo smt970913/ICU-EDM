{
 "cells": [
  {
   "cell_type": "markdown",
   "source": [
    "# Example - Offline FQI with linear function approximation"
   ],
   "metadata": {
    "collapsed": false
   },
   "id": "29cd7d2751966a55"
  },
  {
   "cell_type": "code",
   "outputs": [],
   "source": [
    "import numpy as np\n",
    "\n",
    "from models import DataMIMIC_IV_EFR\n",
    "from models import safe_fqi_model\n",
    "from models import train_set\n",
    "\n",
    "from sklearn.preprocessing import StandardScaler"
   ],
   "metadata": {
    "collapsed": false,
    "ExecuteTime": {
     "end_time": "2024-04-03T14:13:41.941249Z",
     "start_time": "2024-04-03T14:13:39.436809Z"
    }
   },
   "id": "c225d32ff24d2f29",
   "execution_count": 1
  },
  {
   "cell_type": "code",
   "outputs": [],
   "source": [
    "configurator = safe_fqi_model.RLConfigurator()\n",
    "config = configurator.input_rl_config()"
   ],
   "metadata": {
    "collapsed": false,
    "ExecuteTime": {
     "end_time": "2024-04-03T14:14:18.720667Z",
     "start_time": "2024-04-03T14:13:43.549795Z"
    }
   },
   "id": "2dfcccac4c36ac73",
   "execution_count": 2
  },
  {
   "cell_type": "code",
   "outputs": [],
   "source": [
    "cfg = config"
   ],
   "metadata": {
    "collapsed": false,
    "ExecuteTime": {
     "end_time": "2024-04-03T14:14:22.168314Z",
     "start_time": "2024-04-03T14:14:22.154314Z"
    }
   },
   "id": "19c92c1d801b5ac4",
   "execution_count": 3
  },
  {
   "cell_type": "code",
   "outputs": [],
   "source": [
    "# Load the data\n",
    "data = DataMIMIC_IV_EFR.DataLoader(cfg, \n",
    "                                   state_id_path = \"../data/state_id_table_0319.csv\", \n",
    "                                   rl_state_path = \"../data/rl_state_table_0319.csv\", \n",
    "                                   test_size = 0.20, random_state = 1000, scaler = StandardScaler())"
   ],
   "metadata": {
    "collapsed": false,
    "ExecuteTime": {
     "end_time": "2024-04-03T14:14:28.070577Z",
     "start_time": "2024-04-03T14:14:24.452326Z"
    }
   },
   "id": "6cf0225869825e66",
   "execution_count": 4
  },
  {
   "cell_type": "code",
   "outputs": [
    {
     "data": {
      "text/plain": "       anchor_age  M  patientweight  Heart Rate  Arterial O2 pressure  \\\n0              53  0           96.0   93.000000            194.333333   \n1              56  1           91.0   81.428571            131.750000   \n2              56  1           91.0   65.000000            133.000000   \n3              56  1           91.0   65.333333            147.333333   \n4              72  0           93.0  115.880000            123.800000   \n...           ... ..            ...         ...                   ...   \n83892          41  1          107.5   83.500000            165.500000   \n83893          57  0           60.0   94.000000            119.400000   \n83894          57  0           60.0   91.428571            114.000000   \n83895          57  0           60.0   93.571429            114.000000   \n83896          57  0           60.0   76.800000            114.000000   \n\n       Hemoglobin  Arterial CO2 Pressure  Hematocrit (serum)        WBC  \\\n0            11.2              43.000000           31.450000  20.200000   \n1            11.6              47.500000           33.700000  14.500000   \n2            11.6              39.500000           33.700000  14.500000   \n3            10.9              43.000000           32.300000  12.100000   \n4            10.6              28.600000           30.233333   3.766667   \n...           ...                    ...                 ...        ...   \n83892        13.9              34.500000           39.500000  12.100000   \n83893        13.2              40.066667           39.800000  12.900000   \n83894        13.2              44.000000           39.800000  12.900000   \n83895        13.2              44.000000           39.800000  12.900000   \n83896        13.2              44.000000           39.800000  12.900000   \n\n       Chloride (serum)  ...  Platelet Count  Blood Pressure Systolic  \\\n0                 108.5  ...      254.000000               114.750000   \n1                 116.0  ...      174.000000               103.857143   \n2                 116.0  ...      174.000000               116.666667   \n3                 115.0  ...      169.000000               106.166667   \n4                 108.0  ...       94.666667               106.724138   \n...                 ...  ...             ...                      ...   \n83892             105.0  ...      121.000000               117.500000   \n83893             109.0  ...      121.000000               112.142857   \n83894             109.0  ...      121.000000               107.833333   \n83895             109.0  ...      121.000000               110.285714   \n83896             109.0  ...      121.000000               107.000000   \n\n       Blood Pressure Diastolic  Blood Pressure Mean  Temperature C  \\\n0                     67.000000            83.000000      36.925000   \n1                     57.571429            73.571429      36.942593   \n2                     57.000000            75.333333      36.700000   \n3                     55.333333            72.000000      36.663810   \n4                     73.206897            85.103448      37.025048   \n...                         ...                  ...            ...   \n83892                 77.285714            99.500000      37.166667   \n83893                 78.000000            85.857143      37.750000   \n83894                 67.166667            74.166667      37.222222   \n83895                 67.857143            80.142857      37.388889   \n83896                 66.333333            80.166667      37.111111   \n\n            SaO2  GCS score  PEEP Level         RR       TV  \n0      97.500000   6.500000    5.000000  16.500000  0.52575  \n1      98.000000   7.000000    6.000000   4.200000  0.49700  \n2      99.000000   8.000000    5.000000  16.166667  0.49700  \n3      98.666667  12.500000    5.000000   8.000000  0.81550  \n4      94.000000   3.000000    8.333333  17.800000  0.43210  \n...          ...        ...         ...        ...      ...  \n83892  99.500000   9.000000    5.000000  17.000000  0.66200  \n83893  99.500000   7.000000    5.000000  19.375000  0.44660  \n83894  99.142857   8.666667    5.000000  19.142857  0.32820  \n83895  96.571429   8.666667    5.000000  19.571429  0.38160  \n83896  99.600000   8.000000    5.000000  20.200000  0.43080  \n\n[83897 rows x 30 columns]",
      "text/html": "<div>\n<style scoped>\n    .dataframe tbody tr th:only-of-type {\n        vertical-align: middle;\n    }\n\n    .dataframe tbody tr th {\n        vertical-align: top;\n    }\n\n    .dataframe thead th {\n        text-align: right;\n    }\n</style>\n<table border=\"1\" class=\"dataframe\">\n  <thead>\n    <tr style=\"text-align: right;\">\n      <th></th>\n      <th>anchor_age</th>\n      <th>M</th>\n      <th>patientweight</th>\n      <th>Heart Rate</th>\n      <th>Arterial O2 pressure</th>\n      <th>Hemoglobin</th>\n      <th>Arterial CO2 Pressure</th>\n      <th>Hematocrit (serum)</th>\n      <th>WBC</th>\n      <th>Chloride (serum)</th>\n      <th>...</th>\n      <th>Platelet Count</th>\n      <th>Blood Pressure Systolic</th>\n      <th>Blood Pressure Diastolic</th>\n      <th>Blood Pressure Mean</th>\n      <th>Temperature C</th>\n      <th>SaO2</th>\n      <th>GCS score</th>\n      <th>PEEP Level</th>\n      <th>RR</th>\n      <th>TV</th>\n    </tr>\n  </thead>\n  <tbody>\n    <tr>\n      <th>0</th>\n      <td>53</td>\n      <td>0</td>\n      <td>96.0</td>\n      <td>93.000000</td>\n      <td>194.333333</td>\n      <td>11.2</td>\n      <td>43.000000</td>\n      <td>31.450000</td>\n      <td>20.200000</td>\n      <td>108.5</td>\n      <td>...</td>\n      <td>254.000000</td>\n      <td>114.750000</td>\n      <td>67.000000</td>\n      <td>83.000000</td>\n      <td>36.925000</td>\n      <td>97.500000</td>\n      <td>6.500000</td>\n      <td>5.000000</td>\n      <td>16.500000</td>\n      <td>0.52575</td>\n    </tr>\n    <tr>\n      <th>1</th>\n      <td>56</td>\n      <td>1</td>\n      <td>91.0</td>\n      <td>81.428571</td>\n      <td>131.750000</td>\n      <td>11.6</td>\n      <td>47.500000</td>\n      <td>33.700000</td>\n      <td>14.500000</td>\n      <td>116.0</td>\n      <td>...</td>\n      <td>174.000000</td>\n      <td>103.857143</td>\n      <td>57.571429</td>\n      <td>73.571429</td>\n      <td>36.942593</td>\n      <td>98.000000</td>\n      <td>7.000000</td>\n      <td>6.000000</td>\n      <td>4.200000</td>\n      <td>0.49700</td>\n    </tr>\n    <tr>\n      <th>2</th>\n      <td>56</td>\n      <td>1</td>\n      <td>91.0</td>\n      <td>65.000000</td>\n      <td>133.000000</td>\n      <td>11.6</td>\n      <td>39.500000</td>\n      <td>33.700000</td>\n      <td>14.500000</td>\n      <td>116.0</td>\n      <td>...</td>\n      <td>174.000000</td>\n      <td>116.666667</td>\n      <td>57.000000</td>\n      <td>75.333333</td>\n      <td>36.700000</td>\n      <td>99.000000</td>\n      <td>8.000000</td>\n      <td>5.000000</td>\n      <td>16.166667</td>\n      <td>0.49700</td>\n    </tr>\n    <tr>\n      <th>3</th>\n      <td>56</td>\n      <td>1</td>\n      <td>91.0</td>\n      <td>65.333333</td>\n      <td>147.333333</td>\n      <td>10.9</td>\n      <td>43.000000</td>\n      <td>32.300000</td>\n      <td>12.100000</td>\n      <td>115.0</td>\n      <td>...</td>\n      <td>169.000000</td>\n      <td>106.166667</td>\n      <td>55.333333</td>\n      <td>72.000000</td>\n      <td>36.663810</td>\n      <td>98.666667</td>\n      <td>12.500000</td>\n      <td>5.000000</td>\n      <td>8.000000</td>\n      <td>0.81550</td>\n    </tr>\n    <tr>\n      <th>4</th>\n      <td>72</td>\n      <td>0</td>\n      <td>93.0</td>\n      <td>115.880000</td>\n      <td>123.800000</td>\n      <td>10.6</td>\n      <td>28.600000</td>\n      <td>30.233333</td>\n      <td>3.766667</td>\n      <td>108.0</td>\n      <td>...</td>\n      <td>94.666667</td>\n      <td>106.724138</td>\n      <td>73.206897</td>\n      <td>85.103448</td>\n      <td>37.025048</td>\n      <td>94.000000</td>\n      <td>3.000000</td>\n      <td>8.333333</td>\n      <td>17.800000</td>\n      <td>0.43210</td>\n    </tr>\n    <tr>\n      <th>...</th>\n      <td>...</td>\n      <td>...</td>\n      <td>...</td>\n      <td>...</td>\n      <td>...</td>\n      <td>...</td>\n      <td>...</td>\n      <td>...</td>\n      <td>...</td>\n      <td>...</td>\n      <td>...</td>\n      <td>...</td>\n      <td>...</td>\n      <td>...</td>\n      <td>...</td>\n      <td>...</td>\n      <td>...</td>\n      <td>...</td>\n      <td>...</td>\n      <td>...</td>\n      <td>...</td>\n    </tr>\n    <tr>\n      <th>83892</th>\n      <td>41</td>\n      <td>1</td>\n      <td>107.5</td>\n      <td>83.500000</td>\n      <td>165.500000</td>\n      <td>13.9</td>\n      <td>34.500000</td>\n      <td>39.500000</td>\n      <td>12.100000</td>\n      <td>105.0</td>\n      <td>...</td>\n      <td>121.000000</td>\n      <td>117.500000</td>\n      <td>77.285714</td>\n      <td>99.500000</td>\n      <td>37.166667</td>\n      <td>99.500000</td>\n      <td>9.000000</td>\n      <td>5.000000</td>\n      <td>17.000000</td>\n      <td>0.66200</td>\n    </tr>\n    <tr>\n      <th>83893</th>\n      <td>57</td>\n      <td>0</td>\n      <td>60.0</td>\n      <td>94.000000</td>\n      <td>119.400000</td>\n      <td>13.2</td>\n      <td>40.066667</td>\n      <td>39.800000</td>\n      <td>12.900000</td>\n      <td>109.0</td>\n      <td>...</td>\n      <td>121.000000</td>\n      <td>112.142857</td>\n      <td>78.000000</td>\n      <td>85.857143</td>\n      <td>37.750000</td>\n      <td>99.500000</td>\n      <td>7.000000</td>\n      <td>5.000000</td>\n      <td>19.375000</td>\n      <td>0.44660</td>\n    </tr>\n    <tr>\n      <th>83894</th>\n      <td>57</td>\n      <td>0</td>\n      <td>60.0</td>\n      <td>91.428571</td>\n      <td>114.000000</td>\n      <td>13.2</td>\n      <td>44.000000</td>\n      <td>39.800000</td>\n      <td>12.900000</td>\n      <td>109.0</td>\n      <td>...</td>\n      <td>121.000000</td>\n      <td>107.833333</td>\n      <td>67.166667</td>\n      <td>74.166667</td>\n      <td>37.222222</td>\n      <td>99.142857</td>\n      <td>8.666667</td>\n      <td>5.000000</td>\n      <td>19.142857</td>\n      <td>0.32820</td>\n    </tr>\n    <tr>\n      <th>83895</th>\n      <td>57</td>\n      <td>0</td>\n      <td>60.0</td>\n      <td>93.571429</td>\n      <td>114.000000</td>\n      <td>13.2</td>\n      <td>44.000000</td>\n      <td>39.800000</td>\n      <td>12.900000</td>\n      <td>109.0</td>\n      <td>...</td>\n      <td>121.000000</td>\n      <td>110.285714</td>\n      <td>67.857143</td>\n      <td>80.142857</td>\n      <td>37.388889</td>\n      <td>96.571429</td>\n      <td>8.666667</td>\n      <td>5.000000</td>\n      <td>19.571429</td>\n      <td>0.38160</td>\n    </tr>\n    <tr>\n      <th>83896</th>\n      <td>57</td>\n      <td>0</td>\n      <td>60.0</td>\n      <td>76.800000</td>\n      <td>114.000000</td>\n      <td>13.2</td>\n      <td>44.000000</td>\n      <td>39.800000</td>\n      <td>12.900000</td>\n      <td>109.0</td>\n      <td>...</td>\n      <td>121.000000</td>\n      <td>107.000000</td>\n      <td>66.333333</td>\n      <td>80.166667</td>\n      <td>37.111111</td>\n      <td>99.600000</td>\n      <td>8.000000</td>\n      <td>5.000000</td>\n      <td>20.200000</td>\n      <td>0.43080</td>\n    </tr>\n  </tbody>\n</table>\n<p>83897 rows × 30 columns</p>\n</div>"
     },
     "execution_count": 5,
     "metadata": {},
     "output_type": "execute_result"
    }
   ],
   "source": [
    "# set the constraint cost\n",
    "data.rl_state_var"
   ],
   "metadata": {
    "collapsed": false,
    "ExecuteTime": {
     "end_time": "2024-04-03T14:14:28.648268Z",
     "start_time": "2024-04-03T14:14:28.584716Z"
    }
   },
   "id": "5777d6eef0dcb5ba",
   "execution_count": 5
  },
  {
   "cell_type": "code",
   "outputs": [
    {
     "data": {
      "text/plain": "       anchor_age         M  patientweight  Heart Rate  Arterial O2 pressure  \\\n0       -0.557117 -1.207811       0.712703    0.622384              1.467376   \n1       -0.372211  0.827944       0.463201   -0.136966             -0.014353   \n2       -0.372211  0.827944       0.463201   -1.215055              0.015242   \n3       -0.372211  0.827944       0.463201   -1.193181              0.354599   \n4        0.613950 -1.207811       0.563002    2.123834             -0.202578   \n...           ...       ...            ...         ...                   ...   \n83892   -1.296738  0.827944       1.286557   -0.001033              0.784715   \n83893   -0.310576 -1.207811      -1.083710    0.688007             -0.306753   \n83894   -0.310576 -1.207811      -1.083710    0.519263             -0.434604   \n83895   -0.310576 -1.207811      -1.083710    0.659883             -0.434604   \n83896   -0.310576 -1.207811      -1.083710   -0.440706             -0.434604   \n\n       Hemoglobin  Arterial CO2 Pressure  Hematocrit (serum)       WBC  \\\n0        0.730771               0.503769            0.310010  1.703314   \n1        0.969481               1.255761            0.790002  0.540473   \n2        0.969481              -0.081113            0.790002  0.540473   \n3        0.551738               0.503769            0.491340  0.050856   \n4        0.372705              -1.902603            0.050460 -1.649203   \n...           ...                    ...                 ...       ...   \n83892    2.342065              -0.916659            2.027313  0.050856   \n83893    1.924322               0.013582            2.091312  0.214062   \n83894    1.924322               0.670878            2.091312  0.214062   \n83895    1.924322               0.670878            2.091312  0.214062   \n83896    1.924322               0.670878            2.091312  0.214062   \n\n       Chloride (serum)  ...  Platelet Count  Blood Pressure Systolic  \\\n0              0.542280  ...        0.960871                -0.201160   \n1              1.969542  ...       -0.043147                -0.873391   \n2              1.969542  ...       -0.043147                -0.082877   \n3              1.779240  ...       -0.105898                -0.730864   \n4              0.447130  ...       -1.038798                -0.696461   \n...                 ...  ...             ...                      ...   \n83892         -0.123775  ...       -0.708309                -0.031450   \n83893          0.637431  ...       -0.708309                -0.362055   \n83894          0.637431  ...       -0.708309                -0.628009   \n83895          0.637431  ...       -0.708309                -0.476665   \n83896          0.637431  ...       -0.708309                -0.679436   \n\n       Blood Pressure Diastolic  Blood Pressure Mean  Temperature C      SaO2  \\\n0                      0.608582             0.461719      -0.270095 -0.233522   \n1                     -0.297224            -0.415816      -0.238556  0.052351   \n2                     -0.352121            -0.251832      -0.673461  0.624096   \n3                     -0.512239            -0.562072      -0.738342  0.433514   \n4                      1.204881             0.657491      -0.090736 -2.234629   \n...                         ...                  ...            ...       ...   \n83892                  1.596734             1.997405       0.163151  0.909968   \n83893                  1.665356             0.727638       1.208916  0.909968   \n83894                  0.624594            -0.360416       0.262747  0.705773   \n83895                  0.690928             0.195799       0.561537 -0.764428   \n83896                  0.544535             0.198015       0.063554  0.967143   \n\n       GCS score  PEEP Level        RR        TV  \n0      -0.778741   -0.356808 -0.003032  0.455119  \n1      -0.590650    0.074396 -1.863582  0.214858  \n2      -0.214467   -0.356808 -0.053453  0.214858  \n3       1.478357   -0.356808 -1.288778  2.876528  \n4      -2.095382    1.080539  0.193612 -0.327504  \n...          ...         ...       ...       ...  \n83892   0.161717   -0.356808  0.072600  1.593745  \n83893  -0.590650   -0.356808  0.431853 -0.206329  \n83894   0.036322   -0.356808  0.396738 -1.195785  \n83895   0.036322   -0.356808  0.461565 -0.749527  \n83896  -0.214467   -0.356808  0.556646 -0.338368  \n\n[83897 rows x 30 columns]",
      "text/html": "<div>\n<style scoped>\n    .dataframe tbody tr th:only-of-type {\n        vertical-align: middle;\n    }\n\n    .dataframe tbody tr th {\n        vertical-align: top;\n    }\n\n    .dataframe thead th {\n        text-align: right;\n    }\n</style>\n<table border=\"1\" class=\"dataframe\">\n  <thead>\n    <tr style=\"text-align: right;\">\n      <th></th>\n      <th>anchor_age</th>\n      <th>M</th>\n      <th>patientweight</th>\n      <th>Heart Rate</th>\n      <th>Arterial O2 pressure</th>\n      <th>Hemoglobin</th>\n      <th>Arterial CO2 Pressure</th>\n      <th>Hematocrit (serum)</th>\n      <th>WBC</th>\n      <th>Chloride (serum)</th>\n      <th>...</th>\n      <th>Platelet Count</th>\n      <th>Blood Pressure Systolic</th>\n      <th>Blood Pressure Diastolic</th>\n      <th>Blood Pressure Mean</th>\n      <th>Temperature C</th>\n      <th>SaO2</th>\n      <th>GCS score</th>\n      <th>PEEP Level</th>\n      <th>RR</th>\n      <th>TV</th>\n    </tr>\n  </thead>\n  <tbody>\n    <tr>\n      <th>0</th>\n      <td>-0.557117</td>\n      <td>-1.207811</td>\n      <td>0.712703</td>\n      <td>0.622384</td>\n      <td>1.467376</td>\n      <td>0.730771</td>\n      <td>0.503769</td>\n      <td>0.310010</td>\n      <td>1.703314</td>\n      <td>0.542280</td>\n      <td>...</td>\n      <td>0.960871</td>\n      <td>-0.201160</td>\n      <td>0.608582</td>\n      <td>0.461719</td>\n      <td>-0.270095</td>\n      <td>-0.233522</td>\n      <td>-0.778741</td>\n      <td>-0.356808</td>\n      <td>-0.003032</td>\n      <td>0.455119</td>\n    </tr>\n    <tr>\n      <th>1</th>\n      <td>-0.372211</td>\n      <td>0.827944</td>\n      <td>0.463201</td>\n      <td>-0.136966</td>\n      <td>-0.014353</td>\n      <td>0.969481</td>\n      <td>1.255761</td>\n      <td>0.790002</td>\n      <td>0.540473</td>\n      <td>1.969542</td>\n      <td>...</td>\n      <td>-0.043147</td>\n      <td>-0.873391</td>\n      <td>-0.297224</td>\n      <td>-0.415816</td>\n      <td>-0.238556</td>\n      <td>0.052351</td>\n      <td>-0.590650</td>\n      <td>0.074396</td>\n      <td>-1.863582</td>\n      <td>0.214858</td>\n    </tr>\n    <tr>\n      <th>2</th>\n      <td>-0.372211</td>\n      <td>0.827944</td>\n      <td>0.463201</td>\n      <td>-1.215055</td>\n      <td>0.015242</td>\n      <td>0.969481</td>\n      <td>-0.081113</td>\n      <td>0.790002</td>\n      <td>0.540473</td>\n      <td>1.969542</td>\n      <td>...</td>\n      <td>-0.043147</td>\n      <td>-0.082877</td>\n      <td>-0.352121</td>\n      <td>-0.251832</td>\n      <td>-0.673461</td>\n      <td>0.624096</td>\n      <td>-0.214467</td>\n      <td>-0.356808</td>\n      <td>-0.053453</td>\n      <td>0.214858</td>\n    </tr>\n    <tr>\n      <th>3</th>\n      <td>-0.372211</td>\n      <td>0.827944</td>\n      <td>0.463201</td>\n      <td>-1.193181</td>\n      <td>0.354599</td>\n      <td>0.551738</td>\n      <td>0.503769</td>\n      <td>0.491340</td>\n      <td>0.050856</td>\n      <td>1.779240</td>\n      <td>...</td>\n      <td>-0.105898</td>\n      <td>-0.730864</td>\n      <td>-0.512239</td>\n      <td>-0.562072</td>\n      <td>-0.738342</td>\n      <td>0.433514</td>\n      <td>1.478357</td>\n      <td>-0.356808</td>\n      <td>-1.288778</td>\n      <td>2.876528</td>\n    </tr>\n    <tr>\n      <th>4</th>\n      <td>0.613950</td>\n      <td>-1.207811</td>\n      <td>0.563002</td>\n      <td>2.123834</td>\n      <td>-0.202578</td>\n      <td>0.372705</td>\n      <td>-1.902603</td>\n      <td>0.050460</td>\n      <td>-1.649203</td>\n      <td>0.447130</td>\n      <td>...</td>\n      <td>-1.038798</td>\n      <td>-0.696461</td>\n      <td>1.204881</td>\n      <td>0.657491</td>\n      <td>-0.090736</td>\n      <td>-2.234629</td>\n      <td>-2.095382</td>\n      <td>1.080539</td>\n      <td>0.193612</td>\n      <td>-0.327504</td>\n    </tr>\n    <tr>\n      <th>...</th>\n      <td>...</td>\n      <td>...</td>\n      <td>...</td>\n      <td>...</td>\n      <td>...</td>\n      <td>...</td>\n      <td>...</td>\n      <td>...</td>\n      <td>...</td>\n      <td>...</td>\n      <td>...</td>\n      <td>...</td>\n      <td>...</td>\n      <td>...</td>\n      <td>...</td>\n      <td>...</td>\n      <td>...</td>\n      <td>...</td>\n      <td>...</td>\n      <td>...</td>\n      <td>...</td>\n    </tr>\n    <tr>\n      <th>83892</th>\n      <td>-1.296738</td>\n      <td>0.827944</td>\n      <td>1.286557</td>\n      <td>-0.001033</td>\n      <td>0.784715</td>\n      <td>2.342065</td>\n      <td>-0.916659</td>\n      <td>2.027313</td>\n      <td>0.050856</td>\n      <td>-0.123775</td>\n      <td>...</td>\n      <td>-0.708309</td>\n      <td>-0.031450</td>\n      <td>1.596734</td>\n      <td>1.997405</td>\n      <td>0.163151</td>\n      <td>0.909968</td>\n      <td>0.161717</td>\n      <td>-0.356808</td>\n      <td>0.072600</td>\n      <td>1.593745</td>\n    </tr>\n    <tr>\n      <th>83893</th>\n      <td>-0.310576</td>\n      <td>-1.207811</td>\n      <td>-1.083710</td>\n      <td>0.688007</td>\n      <td>-0.306753</td>\n      <td>1.924322</td>\n      <td>0.013582</td>\n      <td>2.091312</td>\n      <td>0.214062</td>\n      <td>0.637431</td>\n      <td>...</td>\n      <td>-0.708309</td>\n      <td>-0.362055</td>\n      <td>1.665356</td>\n      <td>0.727638</td>\n      <td>1.208916</td>\n      <td>0.909968</td>\n      <td>-0.590650</td>\n      <td>-0.356808</td>\n      <td>0.431853</td>\n      <td>-0.206329</td>\n    </tr>\n    <tr>\n      <th>83894</th>\n      <td>-0.310576</td>\n      <td>-1.207811</td>\n      <td>-1.083710</td>\n      <td>0.519263</td>\n      <td>-0.434604</td>\n      <td>1.924322</td>\n      <td>0.670878</td>\n      <td>2.091312</td>\n      <td>0.214062</td>\n      <td>0.637431</td>\n      <td>...</td>\n      <td>-0.708309</td>\n      <td>-0.628009</td>\n      <td>0.624594</td>\n      <td>-0.360416</td>\n      <td>0.262747</td>\n      <td>0.705773</td>\n      <td>0.036322</td>\n      <td>-0.356808</td>\n      <td>0.396738</td>\n      <td>-1.195785</td>\n    </tr>\n    <tr>\n      <th>83895</th>\n      <td>-0.310576</td>\n      <td>-1.207811</td>\n      <td>-1.083710</td>\n      <td>0.659883</td>\n      <td>-0.434604</td>\n      <td>1.924322</td>\n      <td>0.670878</td>\n      <td>2.091312</td>\n      <td>0.214062</td>\n      <td>0.637431</td>\n      <td>...</td>\n      <td>-0.708309</td>\n      <td>-0.476665</td>\n      <td>0.690928</td>\n      <td>0.195799</td>\n      <td>0.561537</td>\n      <td>-0.764428</td>\n      <td>0.036322</td>\n      <td>-0.356808</td>\n      <td>0.461565</td>\n      <td>-0.749527</td>\n    </tr>\n    <tr>\n      <th>83896</th>\n      <td>-0.310576</td>\n      <td>-1.207811</td>\n      <td>-1.083710</td>\n      <td>-0.440706</td>\n      <td>-0.434604</td>\n      <td>1.924322</td>\n      <td>0.670878</td>\n      <td>2.091312</td>\n      <td>0.214062</td>\n      <td>0.637431</td>\n      <td>...</td>\n      <td>-0.708309</td>\n      <td>-0.679436</td>\n      <td>0.544535</td>\n      <td>0.198015</td>\n      <td>0.063554</td>\n      <td>0.967143</td>\n      <td>-0.214467</td>\n      <td>-0.356808</td>\n      <td>0.556646</td>\n      <td>-0.338368</td>\n    </tr>\n  </tbody>\n</table>\n<p>83897 rows × 30 columns</p>\n</div>"
     },
     "execution_count": 6,
     "metadata": {},
     "output_type": "execute_result"
    }
   ],
   "source": [
    "data.rl_state_var_sc"
   ],
   "metadata": {
    "collapsed": false,
    "ExecuteTime": {
     "end_time": "2024-04-03T14:14:28.912731Z",
     "start_time": "2024-04-03T14:14:28.858712Z"
    }
   },
   "id": "ca0e3e17d0a95514",
   "execution_count": 6
  },
  {
   "cell_type": "code",
   "outputs": [
    {
     "data": {
      "text/plain": "(83897, 30)"
     },
     "execution_count": 7,
     "metadata": {},
     "output_type": "execute_result"
    }
   ],
   "source": [
    "data.rl_state_var_sc.shape"
   ],
   "metadata": {
    "collapsed": false,
    "ExecuteTime": {
     "end_time": "2024-04-03T14:14:29.619859Z",
     "start_time": "2024-04-03T14:14:29.606279Z"
    }
   },
   "id": "b77ecc5983e499fd",
   "execution_count": 7
  },
  {
   "cell_type": "code",
   "outputs": [],
   "source": [
    "rl_training = train_set.RLTraining(cfg, state_dim = 30, action_dim = 2, hidden_layers = None, data_loader = data.data_torch_loader_train)"
   ],
   "metadata": {
    "collapsed": false,
    "ExecuteTime": {
     "end_time": "2024-04-03T14:14:32.313231Z",
     "start_time": "2024-04-03T14:14:32.299231Z"
    }
   },
   "id": "18842c55adf924ae",
   "execution_count": 8
  },
  {
   "cell_type": "code",
   "outputs": [],
   "source": [
    "agent_fqi_c0 = rl_training.fqi_agent_config(seed = 1)"
   ],
   "metadata": {
    "collapsed": false,
    "ExecuteTime": {
     "end_time": "2024-04-03T14:14:33.096893Z",
     "start_time": "2024-04-03T14:14:32.914372Z"
    }
   },
   "id": "cd96b6f1bfd24c61",
   "execution_count": 9
  },
  {
   "cell_type": "code",
   "outputs": [],
   "source": [
    "agent_fqe_obj_c0 = rl_training.fqe_agent_config(agent_fqi_c0, seed = 2)\n",
    "agent_fqe_con_c0 = rl_training.fqe_agent_config(agent_fqi_c0, seed = 3)"
   ],
   "metadata": {
    "collapsed": false,
    "ExecuteTime": {
     "end_time": "2024-04-03T14:14:33.925857Z",
     "start_time": "2024-04-03T14:14:33.918851Z"
    }
   },
   "id": "6d744623f0a15603",
   "execution_count": 10
  },
  {
   "cell_type": "code",
   "outputs": [
    {
     "name": "stdout",
     "output_type": "stream",
     "text": [
      "Start to train !\n",
      "Algorithm:test, Device:cuda\n",
      "The number of training epochs: 1\n"
     ]
    },
    {
     "name": "stderr",
     "output_type": "stream",
     "text": [
      "  0%|          | 0/3000 [00:00<?, ?it/s]\n"
     ]
    },
    {
     "ename": "TypeError",
     "evalue": "'float' object is not subscriptable",
     "output_type": "error",
     "traceback": [
      "\u001B[1;31m---------------------------------------------------------------------------\u001B[0m",
      "\u001B[1;31mTypeError\u001B[0m                                 Traceback (most recent call last)",
      "Cell \u001B[1;32mIn[12], line 1\u001B[0m\n\u001B[1;32m----> 1\u001B[0m \u001B[43mrl_training\u001B[49m\u001B[38;5;241;43m.\u001B[39;49m\u001B[43mtrain\u001B[49m\u001B[43m(\u001B[49m\u001B[43magent_fqi_c0\u001B[49m\u001B[43m,\u001B[49m\u001B[43m \u001B[49m\u001B[43magent_fqe_obj_c0\u001B[49m\u001B[43m,\u001B[49m\u001B[43m \u001B[49m\u001B[43m[\u001B[49m\u001B[43magent_fqe_con_c0\u001B[49m\u001B[43m]\u001B[49m\u001B[43m,\u001B[49m\u001B[43m \u001B[49m\u001B[43msafe_constraint\u001B[49m\u001B[43m \u001B[49m\u001B[38;5;241;43m=\u001B[39;49m\u001B[43m \u001B[49m\u001B[38;5;28;43;01mTrue\u001B[39;49;00m\u001B[43m)\u001B[49m\n",
      "File \u001B[1;32m~\\PycharmProjects\\SafeVent ToolKit\\models\\train_set.py:96\u001B[0m, in \u001B[0;36mRLTraining.train\u001B[1;34m(self, agent_fqi, agent_fqe_obj, agent_fqe_con_list, safe_constraint)\u001B[0m\n\u001B[0;32m     94\u001B[0m     \u001B[38;5;28;01mfor\u001B[39;00m m \u001B[38;5;129;01min\u001B[39;00m \u001B[38;5;28mrange\u001B[39m(\u001B[38;5;28mlen\u001B[39m(agent_fqe_con_list)):\n\u001B[0;32m     95\u001B[0m         lambda_update_list[m] \u001B[38;5;241m=\u001B[39m agent_fqe_con_list[m]\u001B[38;5;241m.\u001B[39mavg_Q_value_est(state_batch) \u001B[38;5;241m-\u001B[39m \u001B[38;5;28mself\u001B[39m\u001B[38;5;241m.\u001B[39mcfg\u001B[38;5;241m.\u001B[39mconstraint_limit[m]\n\u001B[1;32m---> 96\u001B[0m         lambda_t_list[m] \u001B[38;5;241m=\u001B[39m lambda_t_list[m] \u001B[38;5;241m+\u001B[39m (\u001B[38;5;28;43mself\u001B[39;49m\u001B[38;5;241;43m.\u001B[39;49m\u001B[43mcfg\u001B[49m\u001B[38;5;241;43m.\u001B[39;49m\u001B[43mlr_lam\u001B[49m\u001B[43m[\u001B[49m\u001B[43mm\u001B[49m\u001B[43m]\u001B[49m \u001B[38;5;241m*\u001B[39m lambda_update_list[m])\n\u001B[0;32m     97\u001B[0m         lambda_t_list[m] \u001B[38;5;241m=\u001B[39m \u001B[38;5;28mmax\u001B[39m(\u001B[38;5;241m0\u001B[39m, lambda_t_list[m])\n\u001B[0;32m     98\u001B[0m \u001B[38;5;66;03m######################################################################################\u001B[39;00m\n",
      "\u001B[1;31mTypeError\u001B[0m: 'float' object is not subscriptable"
     ]
    }
   ],
   "source": [
    "rl_training.train(agent_fqi_c0, agent_fqe_obj_c0, [agent_fqe_con_c0], safe_constraint = True)"
   ],
   "metadata": {
    "collapsed": false,
    "ExecuteTime": {
     "end_time": "2024-04-03T14:16:54.154418Z",
     "start_time": "2024-04-03T14:16:54.092601Z"
    }
   },
   "id": "9c05419248c30f1f",
   "execution_count": 12
  },
  {
   "cell_type": "code",
   "outputs": [],
   "source": [],
   "metadata": {
    "collapsed": false
   },
   "id": "2f7a2eaaf763cd9d"
  }
 ],
 "metadata": {
  "kernelspec": {
   "display_name": "Python 3",
   "language": "python",
   "name": "python3"
  },
  "language_info": {
   "codemirror_mode": {
    "name": "ipython",
    "version": 2
   },
   "file_extension": ".py",
   "mimetype": "text/x-python",
   "name": "python",
   "nbconvert_exporter": "python",
   "pygments_lexer": "ipython2",
   "version": "2.7.6"
  }
 },
 "nbformat": 4,
 "nbformat_minor": 5
}
